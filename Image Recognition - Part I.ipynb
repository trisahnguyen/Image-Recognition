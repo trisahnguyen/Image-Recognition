{
 "cells": [
  {
   "cell_type": "markdown",
   "id": "da04a507",
   "metadata": {},
   "source": [
    "# ADTA 5550 Final Project PART III\n",
    "## Trisa Nguyen\n",
    "## July 25, 2022"
   ]
  },
  {
   "cell_type": "code",
   "execution_count": 1,
   "id": "0eed7b2b",
   "metadata": {},
   "outputs": [],
   "source": [
    "## Import libraries\n",
    "\n",
    "import matplotlib.pyplot as plt \n",
    "%matplotlib inline\n",
    "\n",
    "from matplotlib import pyplot as plt\n",
    "\n",
    "import pandas as pd\n",
    "import numpy as np\n",
    "\n",
    "import tensorflow as tf"
   ]
  },
  {
   "cell_type": "markdown",
   "id": "2678e265",
   "metadata": {},
   "source": [
    "### Load Data"
   ]
  },
  {
   "cell_type": "code",
   "execution_count": 2,
   "id": "7e59f8bc",
   "metadata": {},
   "outputs": [],
   "source": [
    "# Set path for dataset\n",
    "\n",
    "CIFAR_DIR = '/home/thnguyen5550/JPTR_NTBK/CIFAR_10_DATA/'"
   ]
  },
  {
   "cell_type": "code",
   "execution_count": 3,
   "id": "94a52698",
   "metadata": {},
   "outputs": [],
   "source": [
    "def unpickle(file):\n",
    "    import pickle\n",
    "    with open(file, 'rb') as fo:\n",
    "        cifar_dict = pickle.load(fo, encoding='bytes')\n",
    "    return cifar_dict"
   ]
  },
  {
   "cell_type": "code",
   "execution_count": 4,
   "id": "f923f818",
   "metadata": {},
   "outputs": [],
   "source": [
    "def unpickle(file):\n",
    "    import pickle\n",
    "    with open(file, 'rb') as fo:\n",
    "        cifar_dict = pickle.load(fo, encoding='bytes')\n",
    "    return cifar_dict\n",
    "dirs = ['batches.meta','data_batch_1','data_batch_2','data_batch_3','data_batch_4','data_batch_5','test_batch']\n",
    "\n",
    "all_data = [0,1,2,3,4,5,6]\n",
    "\n",
    "for i,direc in zip(all_data,dirs):\n",
    "    all_data[i] = unpickle(CIFAR_DIR+direc)"
   ]
  },
  {
   "cell_type": "code",
   "execution_count": 5,
   "id": "2709f71d",
   "metadata": {},
   "outputs": [],
   "source": [
    "batch_meta = all_data[0]\n",
    "data_batch1 = all_data[1]\n",
    "data_batch2 = all_data[2]\n",
    "data_batch3 = all_data[3]\n",
    "data_batch4 = all_data[4]\n",
    "data_batch5 = all_data[5]\n",
    "test_batch = all_data[6]"
   ]
  },
  {
   "cell_type": "code",
   "execution_count": 6,
   "id": "9dc3e0c2",
   "metadata": {},
   "outputs": [
    {
     "data": {
      "text/plain": [
       "{b'num_cases_per_batch': 10000,\n",
       " b'label_names': [b'airplane',\n",
       "  b'automobile',\n",
       "  b'bird',\n",
       "  b'cat',\n",
       "  b'deer',\n",
       "  b'dog',\n",
       "  b'frog',\n",
       "  b'horse',\n",
       "  b'ship',\n",
       "  b'truck'],\n",
       " b'num_vis': 3072}"
      ]
     },
     "execution_count": 6,
     "metadata": {},
     "output_type": "execute_result"
    }
   ],
   "source": [
    "batch_meta"
   ]
  },
  {
   "cell_type": "code",
   "execution_count": 7,
   "id": "dd77cbf8",
   "metadata": {},
   "outputs": [
    {
     "data": {
      "text/plain": [
       "dict_keys([b'batch_label', b'labels', b'data', b'filenames'])"
      ]
     },
     "execution_count": 7,
     "metadata": {},
     "output_type": "execute_result"
    }
   ],
   "source": [
    "data_batch1.keys()"
   ]
  },
  {
   "cell_type": "markdown",
   "id": "c56c5a97",
   "metadata": {},
   "source": [
    "### Display single images using matplotlib"
   ]
  },
  {
   "cell_type": "code",
   "execution_count": 8,
   "id": "512aa3e3",
   "metadata": {},
   "outputs": [],
   "source": [
    "X = data_batch1[b\"data\"] "
   ]
  },
  {
   "cell_type": "code",
   "execution_count": 9,
   "id": "b73d95fb",
   "metadata": {},
   "outputs": [],
   "source": [
    "X = X.reshape(10000, 3, 32, 32).transpose(0,2,3,1).astype(\"uint8\")\n"
   ]
  },
  {
   "cell_type": "code",
   "execution_count": 10,
   "id": "6a47e10e",
   "metadata": {},
   "outputs": [
    {
     "data": {
      "text/plain": [
       "255"
      ]
     },
     "execution_count": 10,
     "metadata": {},
     "output_type": "execute_result"
    }
   ],
   "source": [
    "X[0].max()"
   ]
  },
  {
   "cell_type": "code",
   "execution_count": 11,
   "id": "a83a73e4",
   "metadata": {},
   "outputs": [
    {
     "data": {
      "text/plain": [
       "1.0"
      ]
     },
     "execution_count": 11,
     "metadata": {},
     "output_type": "execute_result"
    }
   ],
   "source": [
    "(X[0]/255).max()"
   ]
  },
  {
   "cell_type": "code",
   "execution_count": 12,
   "id": "773e8e6a",
   "metadata": {},
   "outputs": [
    {
     "data": {
      "text/plain": [
       "<matplotlib.image.AxesImage at 0x7f1b067adf50>"
      ]
     },
     "execution_count": 12,
     "metadata": {},
     "output_type": "execute_result"
    },
    {
     "data": {
      "image/png": "[encoded data removed]",
      "text/plain": [
       "<Figure size 432x288 with 1 Axes>"
      ]
     },
     "metadata": {
      "needs_background": "light"
     },
     "output_type": "display_data"
    }
   ],
   "source": [
    "plt.imshow(X[0])"
   ]
  },
  {
   "cell_type": "code",
   "execution_count": 13,
   "id": "b3299f4d",
   "metadata": {},
   "outputs": [
    {
     "data": {
      "text/plain": [
       "<matplotlib.image.AxesImage at 0x7f1b066beb10>"
      ]
     },
     "execution_count": 13,
     "metadata": {},
     "output_type": "execute_result"
    },
    {
     "data": {
      "image/png": "[encoded data removed]",
      "text/plain": [
       "<Figure size 432x288 with 1 Axes>"
      ]
     },
     "metadata": {
      "needs_background": "light"
     },
     "output_type": "display_data"
    }
   ],
   "source": [
    "plt.imshow(X[1])"
   ]
  },
  {
   "cell_type": "code",
   "execution_count": 14,
   "id": "7b5695fa",
   "metadata": {},
   "outputs": [
    {
     "data": {
      "text/plain": [
       "<matplotlib.image.AxesImage at 0x7f1b06648990>"
      ]
     },
     "execution_count": 14,
     "metadata": {},
     "output_type": "execute_result"
    },
    {
     "data": {
      "image/png": "[encoded data removed]",
      "text/plain": [
       "<Figure size 432x288 with 1 Axes>"
      ]
     },
     "metadata": {
      "needs_background": "light"
     },
     "output_type": "display_data"
    }
   ],
   "source": [
    "plt.imshow(X[4])"
   ]
  },
  {
   "cell_type": "markdown",
   "id": "714dbbc3",
   "metadata": {},
   "source": [
    "### Encode Labels"
   ]
  },
  {
   "cell_type": "code",
   "execution_count": 15,
   "id": "7953d124",
   "metadata": {},
   "outputs": [],
   "source": [
    "def one_hot_encode(vec, vals=10):\n",
    "\n",
    "    n = len(vec)\n",
    "    out = np.zeros((n, vals))\n",
    "    out[range(n), vec] = 1\n",
    "    return out"
   ]
  },
  {
   "cell_type": "markdown",
   "id": "265873d9",
   "metadata": {},
   "source": [
    "### Prepare Image Data to be fed into 1st Convolution Layer"
   ]
  },
  {
   "cell_type": "code",
   "execution_count": 16,
   "id": "aa492172",
   "metadata": {},
   "outputs": [],
   "source": [
    "class CifarHelper():\n",
    "    \n",
    "    def __init__(self):\n",
    "        self.i = 0\n",
    "        \n",
    "        self.all_train_batches = [data_batch1,data_batch2,data_batch3,data_batch4,data_batch5]\n",
    "        self.test_batch = [test_batch]\n",
    "        \n",
    "        self.training_images = None\n",
    "        self.training_labels = None\n",
    "        \n",
    "        self.test_images = None\n",
    "        self.test_labels = None\n",
    "    \n",
    "    def set_up_images(self):\n",
    "        \n",
    "        print(\"Setting Up Training Images and Labels\")\n",
    "        \n",
    "        self.training_images = np.vstack([d[b\"data\"] for d in self.all_train_batches])\n",
    "        train_len = len(self.training_images)\n",
    "        \n",
    "        self.training_images = self.training_images.reshape(train_len,3,32,32).transpose(0,2,3,1)/255\n",
    "        self.training_labels = one_hot_encode(np.hstack([d[b\"labels\"] for d in self.all_train_batches]), 10)\n",
    "        \n",
    "        print(\"Setting Up Test Images and Labels\")\n",
    "        \n",
    "        self.test_images = np.vstack([d[b\"data\"] for d in self.test_batch])\n",
    "        test_len = len(self.test_images)\n",
    "        \n",
    "        self.test_images = self.test_images.reshape(test_len,3,32,32).transpose(0,2,3,1)/255\n",
    "        self.test_labels = one_hot_encode(np.hstack([d[b\"labels\"] for d in self.test_batch]), 10)\n",
    "\n",
    "        \n",
    "    def next_batch(self, batch_size):\n",
    "        x = self.training_images[self.i:self.i+batch_size].reshape(100,32,32,3)\n",
    "        y = self.training_labels[self.i:self.i+batch_size]\n",
    "        self.i = (self.i + batch_size) % len(self.training_images)\n",
    "        return x, y"
   ]
  },
  {
   "cell_type": "markdown",
   "id": "e25801f0",
   "metadata": {},
   "source": [
    "### Prepare image data: Calling CifarHelper.set_up_images()"
   ]
  },
  {
   "cell_type": "code",
   "execution_count": 17,
   "id": "2d32696a",
   "metadata": {},
   "outputs": [
    {
     "name": "stdout",
     "output_type": "stream",
     "text": [
      "Setting Up Training Images and Labels\n",
      "Setting Up Test Images and Labels\n"
     ]
    }
   ],
   "source": [
    "# Before Your tf.Session run these two lines\n",
    "ch = CifarHelper()\n",
    "ch.set_up_images()\n",
    "\n",
    "# During your session to grab the next batch use this line\n",
    "# (Just like we did for mnist.train.next_batch)\n",
    "# batch = ch.next_batch(100)"
   ]
  },
  {
   "cell_type": "markdown",
   "id": "52a58404",
   "metadata": {},
   "source": [
    "### Define Supporting Functions to Build, Train, and Test CNN Model"
   ]
  },
  {
   "cell_type": "code",
   "execution_count": 18,
   "id": "804e1a0e",
   "metadata": {},
   "outputs": [],
   "source": [
    "# This function returns a tf.Variable used to store weights in a filter\n",
    "# This variable is initialized with values that can be used to initialize weights \n",
    "# The values are random numbers\n",
    "\n",
    "def initialize_weights(filter_shape):\n",
    "    \n",
    "    init_random_dist = tf.truncated_normal(filter_shape,stddev=0.1)\n",
    "    \n",
    "    return (tf.Variable(init_random_dist))"
   ]
  },
  {
   "cell_type": "code",
   "execution_count": 19,
   "id": "6609f02e",
   "metadata": {},
   "outputs": [],
   "source": [
    "# This function returns a tf.Variable used to store bias\n",
    "# This variable is initialized with values that can be usedto initialized bias\n",
    "# The value is initialized to 0.1\n",
    "\n",
    "def initialize_bias(bias_shape):\n",
    "    \n",
    "    initial_bias_vals = tf.constant(0.1,shape=bias_shape)\n",
    "    \n",
    "    return (tf.Variable(initial_bias_vals))"
   ]
  },
  {
   "cell_type": "markdown",
   "id": "e74cc145",
   "metadata": {},
   "source": [
    "### Setup 1st Convolution Layer and Perform Convolution Computation: Dot Product (x*W)"
   ]
  },
  {
   "cell_type": "code",
   "execution_count": 20,
   "id": "5681521f",
   "metadata": {},
   "outputs": [],
   "source": [
    "def create_convolution_layer_and_compute_dot_product (inputs, filter_shape):\n",
    "    #Initialize the weights in the filter\n",
    "    filter_initialized_with_weights = initialize_weights(filter_shape)\n",
    "    \n",
    "    #Create a Convolution Layer\n",
    "    conv_layer_outputs = tf.nn.conv2d(inputs,filter_initialized_with_weights, strides=[1,1,1,1],padding ='SAME')\n",
    "    \n",
    "    #Return the convolution layer outputs\n",
    "    return (conv_layer_outputs)"
   ]
  },
  {
   "cell_type": "markdown",
   "id": "cc865c06",
   "metadata": {},
   "source": [
    "### Setup ReLU Layer and Perform Convolution Computation: Dot Product (x*W)"
   ]
  },
  {
   "cell_type": "code",
   "execution_count": 21,
   "id": "4dd5670b",
   "metadata": {},
   "outputs": [],
   "source": [
    "def create_relu_layer_and_compute_dotproduct_plus_b(inputs, filter_shape):\n",
    "    \n",
    "    #Initialize bias for each input channel\n",
    "    b = initialize_bias([filter_shape[3]])\n",
    "    \n",
    "    # Perform the computation first by adding: inputs (x * W) + b\n",
    "    # Create a RelU layer associated with the preceding convolution layer\n",
    "    relu_layer_outputs = tf.nn.relu(inputs+b)\n",
    "    \n",
    "    # Return the outputs of the ReLU layer\n",
    "    return (relu_layer_outputs)"
   ]
  },
  {
   "cell_type": "code",
   "execution_count": 22,
   "id": "970c3199",
   "metadata": {},
   "outputs": [],
   "source": [
    "def conv2d(inputs, filter_shape):\n",
    "    filter_initialized_with_weights = initialize_weights(filter_shape)\n",
    "    conv_layer_outputs = tf.nn.conv2d(inputs,filter_initialized_with_weights, strides=[1,1,1,1],padding ='SAME')\n",
    "    conv2d_output=conv_layer_outputs\n",
    "    \n",
    "    #Adding bias to the dot product\n",
    "    b = initialize_bias([filter_shape[3]])\n",
    "    \n",
    "    #Relu activation function\n",
    "    relu_layer_outputs = tf.nn.relu(conv2d_output+b)\n",
    "    \n",
    "    #Max polling layer to extract features from image\n",
    "    pooling_layer_outputs = tf.nn.max_pool(relu_layer_outputs, ksize=[1,2,2,1],strides = [1,2,2,1],padding='SAME')\n",
    "    return pooling_layer_outputs"
   ]
  },
  {
   "cell_type": "markdown",
   "id": "a56fe7ef",
   "metadata": {},
   "source": [
    "### Setup 1st Pooling Layer and Reduce Spatial Size"
   ]
  },
  {
   "cell_type": "code",
   "execution_count": 23,
   "id": "e8116c31",
   "metadata": {},
   "outputs": [],
   "source": [
    "def create_max_pool(inputs):\n",
    "    \n",
    "    #Create a pooling layer\n",
    "    pooling_layer_outputs = tf.nn.max_pool(inputs, ksize=[1,2,2,1],strides = [1,2,2,1],padding='SAME')\n",
    "    \n",
    "    # Return the pooling Layer\n",
    "    return (pooling_layer_outputs)"
   ]
  },
  {
   "cell_type": "markdown",
   "id": "a4bbb06b",
   "metadata": {},
   "source": [
    "### Setup Fully Connected (FC) Layer and Perform Computation: (Inputs*Weights)+Bias"
   ]
  },
  {
   "cell_type": "code",
   "execution_count": 24,
   "id": "066265d0",
   "metadata": {},
   "outputs": [],
   "source": [
    "def create_fully_connected_layer_and_compute_dotproduct_plus_bias (inputs, output_size):\n",
    "    \n",
    "    #Get the number of input channels from the input\n",
    "    #Inputs: the outputs fro  the preceding Layer or previous operation like reshaping \n",
    "    input_size = int(inputs.get_shape()[1])\n",
    "    \n",
    "    #Initialize the weights of the filter of the FC layer\n",
    "    # Filter shape [in_channels, out_channels]\n",
    "    # Each weight for one filter cell\n",
    "    W = initialize_weights([input_size, output_size])\n",
    "    \n",
    "    #Initialize the bias: each bias, one output channel\n",
    "    b = initialize_bias([output_size])\n",
    "    \n",
    "    #Perform the computation for FC layer and then add bias to get the result\n",
    "    fcbias_outputs=tf.matmul(inputs,W)+b\n",
    "    \n",
    "    # Return the results: outputs\n",
    "    return (fcbias_outputs)"
   ]
  },
  {
   "cell_type": "markdown",
   "id": "7d1be408",
   "metadata": {},
   "source": [
    "## PHASE I: Build Convolutional Neural Network"
   ]
  },
  {
   "cell_type": "markdown",
   "id": "38c5571c",
   "metadata": {},
   "source": [
    "### Create Placeholders for Inputs and Labels: x and y_true"
   ]
  },
  {
   "cell_type": "code",
   "execution_count": 25,
   "id": "3d0e69bc",
   "metadata": {},
   "outputs": [
    {
     "name": "stdout",
     "output_type": "stream",
     "text": [
      "WARNING:tensorflow:From /tmp/ipykernel_24072/3140936945.py:7: The name tf.placeholder is deprecated. Please use tf.compat.v1.placeholder instead.\n",
      "\n"
     ]
    }
   ],
   "source": [
    "# PLACEHOLDER\n",
    "\n",
    "# Create a placeholder for the inputs data: x\n",
    "# x: a 2D array\n",
    "# x: a placeholder that can hold any number of rows/record\n",
    "\n",
    "x = tf.placeholder(tf.float32, shape=[None, 32, 32, 3])"
   ]
  },
  {
   "cell_type": "code",
   "execution_count": 26,
   "id": "5c10b9b3",
   "metadata": {},
   "outputs": [],
   "source": [
    "# PLACEHOLDER\n",
    "\n",
    "# Create a placeholder for the labels of the inputs data: y_true\n",
    "# y_true: a 2D array\n",
    "# y_true: Can hold any number of rows/records\n",
    "\n",
    "y_true = tf.placeholder(tf.float32, [None, 10])"
   ]
  },
  {
   "cell_type": "markdown",
   "id": "d883cd15",
   "metadata": {},
   "source": [
    "### Reshape Input Placeholder x "
   ]
  },
  {
   "cell_type": "code",
   "execution_count": 27,
   "id": "6c0417f3",
   "metadata": {},
   "outputs": [],
   "source": [
    "# DO NOTHING -- DON'T NEED TO RESHAPE - DATA IS ALREADY IN GOOD SHAPE TO BE FED INTO 1ST CONVOLUTION LAYER\n"
   ]
  },
  {
   "cell_type": "code",
   "execution_count": 28,
   "id": "124fe2e2",
   "metadata": {},
   "outputs": [],
   "source": [
    "## Create 1st Convolution Layer"
   ]
  },
  {
   "cell_type": "code",
   "execution_count": 29,
   "id": "9d7283ce",
   "metadata": {},
   "outputs": [
    {
     "name": "stdout",
     "output_type": "stream",
     "text": [
      "WARNING:tensorflow:From /tmp/ipykernel_24072/3414433815.py:7: The name tf.truncated_normal is deprecated. Please use tf.random.truncated_normal instead.\n",
      "\n"
     ]
    }
   ],
   "source": [
    "#Create a first convolution layer\n",
    "conv_layer1=create_convolution_layer_and_compute_dot_product(x,filter_shape=[5, 5, 3, 32])"
   ]
  },
  {
   "cell_type": "code",
   "execution_count": 30,
   "id": "df3aef0b",
   "metadata": {},
   "outputs": [],
   "source": [
    "## Create the ReLU layer for the 1st convolution layer"
   ]
  },
  {
   "cell_type": "code",
   "execution_count": 31,
   "id": "54a2554e",
   "metadata": {},
   "outputs": [],
   "source": [
    "# Accept the outputs from the 1st conv layer as the inputs\n",
    "# Perform the computation at the layer and rfeturn the output to the layer\n",
    "\n",
    "conv_relu_layer1=create_relu_layer_and_compute_dotproduct_plus_b(conv_layer1,filter_shape=[5,5,3,32])"
   ]
  },
  {
   "cell_type": "markdown",
   "id": "63c3e430",
   "metadata": {},
   "source": [
    "### Create 1st pooling layer and reduce spatial size"
   ]
  },
  {
   "cell_type": "code",
   "execution_count": 32,
   "id": "1a0e41c9",
   "metadata": {},
   "outputs": [
    {
     "name": "stdout",
     "output_type": "stream",
     "text": [
      "WARNING:tensorflow:From /tmp/ipykernel_24072/3467863939.py:4: The name tf.nn.max_pool is deprecated. Please use tf.nn.max_pool2d instead.\n",
      "\n"
     ]
    }
   ],
   "source": [
    "pooling_layer1 = create_max_pool(conv_relu_layer1)"
   ]
  },
  {
   "cell_type": "code",
   "execution_count": 33,
   "id": "6cec7270",
   "metadata": {},
   "outputs": [],
   "source": [
    "## Create 2nd Convolution Layer, ReLU Layer, and Perform Computation: (x*w)+b"
   ]
  },
  {
   "cell_type": "code",
   "execution_count": 34,
   "id": "5f7d6b42",
   "metadata": {},
   "outputs": [],
   "source": [
    "# Create a 2nd convolutional layer\n",
    "conv_layer2=create_convolution_layer_and_compute_dot_product(pooling_layer1,filter_shape=[5,5,32,64])"
   ]
  },
  {
   "cell_type": "code",
   "execution_count": 35,
   "id": "741fb4fb",
   "metadata": {},
   "outputs": [],
   "source": [
    "# Create the ReLU layer for the 2nd convolution layer\n",
    "conv_relu_layer2=create_relu_layer_and_compute_dotproduct_plus_b(conv_layer2,filter_shape=[5,5,32,64])"
   ]
  },
  {
   "cell_type": "code",
   "execution_count": 36,
   "id": "950c9327",
   "metadata": {},
   "outputs": [],
   "source": [
    "## Create 2nd Pooling Layer and Reduce Spatial Size"
   ]
  },
  {
   "cell_type": "code",
   "execution_count": 37,
   "id": "8cded1dc",
   "metadata": {},
   "outputs": [],
   "source": [
    "pooling_layer2 = create_max_pool(conv_relu_layer2)"
   ]
  },
  {
   "cell_type": "markdown",
   "id": "51d795f1",
   "metadata": {},
   "source": [
    "### Reshape/Flatten Data to Feed into 1st FC Layer"
   ]
  },
  {
   "cell_type": "code",
   "execution_count": 38,
   "id": "7f1cd3e9",
   "metadata": {},
   "outputs": [],
   "source": [
    "# Reshape and flatten the output of the 3rd pooling layer\n",
    "# Prepare to feed the output data into the 1st fully connected layer\n",
    "\n",
    "pooling_layer2_flatten = tf.reshape(pooling_layer2, [-1,8*8*64])"
   ]
  },
  {
   "cell_type": "markdown",
   "id": "f0544a65",
   "metadata": {},
   "source": [
    "### Create 1st FC Layer, ReLU layer, and Output Data to Dropout Layer"
   ]
  },
  {
   "cell_type": "code",
   "execution_count": 39,
   "id": "b4992d3e",
   "metadata": {},
   "outputs": [],
   "source": [
    "# First, Create the FC (fully connected) layer\n",
    "fc_layer_1_outputs = create_fully_connected_layer_and_compute_dotproduct_plus_bias(pooling_layer2_flatten, output_size=1024)"
   ]
  },
  {
   "cell_type": "code",
   "execution_count": 40,
   "id": "2bdce190",
   "metadata": {},
   "outputs": [],
   "source": [
    "# Create the ReLU layer of the 1st FC layer\n",
    "fc_relu_layer_1_outputs = tf.nn.relu(fc_layer_1_outputs)"
   ]
  },
  {
   "cell_type": "markdown",
   "id": "9ce89b5e",
   "metadata": {},
   "source": [
    "### Create Dropout layer and dropout a fraction of outputs randomly"
   ]
  },
  {
   "cell_type": "code",
   "execution_count": 41,
   "id": "c6b44550",
   "metadata": {},
   "outputs": [
    {
     "name": "stdout",
     "output_type": "stream",
     "text": [
      "WARNING:tensorflow:From /tmp/ipykernel_24072/1686363664.py:2: calling dropout (from tensorflow.python.ops.nn_ops) with keep_prob is deprecated and will be removed in a future version.\n",
      "Instructions for updating:\n",
      "Please use `rate` instead of `keep_prob`. Rate should be set to `rate = 1 - keep_prob`.\n"
     ]
    }
   ],
   "source": [
    "dropout_hold_prob = tf.placeholder(tf.float32)\n",
    "dropout_outputs = tf.nn.dropout(fc_relu_layer_1_outputs, keep_prob=dropout_hold_prob)"
   ]
  },
  {
   "cell_type": "markdown",
   "id": "22d89c8b",
   "metadata": {},
   "source": [
    "### Create Final FC Layer, Compute (x*W)+b, and Produce Final Outputs"
   ]
  },
  {
   "cell_type": "code",
   "execution_count": 42,
   "id": "043b029e",
   "metadata": {},
   "outputs": [],
   "source": [
    "y_pred = create_fully_connected_layer_and_compute_dotproduct_plus_bias(dropout_outputs,output_size=10)"
   ]
  },
  {
   "cell_type": "markdown",
   "id": "5e7a0455",
   "metadata": {},
   "source": [
    "### Define Loss Function and Calculation Softmax Cross Entropy Loss"
   ]
  },
  {
   "cell_type": "code",
   "execution_count": 43,
   "id": "10eb8850",
   "metadata": {},
   "outputs": [],
   "source": [
    "softmax_cross_entropy_loss = tf.nn.softmax_cross_entropy_with_logits_v2(labels=y_true,logits=y_pred)\n",
    "cross_entropy_mean = tf.reduce_mean(softmax_cross_entropy_loss)\n"
   ]
  },
  {
   "cell_type": "markdown",
   "id": "4032adfd",
   "metadata": {},
   "source": [
    "### Create an Optimizer to Optimize CNN Model and Set Learning Rate"
   ]
  },
  {
   "cell_type": "code",
   "execution_count": 44,
   "id": "dbbf6e1a",
   "metadata": {},
   "outputs": [
    {
     "name": "stdout",
     "output_type": "stream",
     "text": [
      "WARNING:tensorflow:From /tmp/ipykernel_24072/252171548.py:2: The name tf.train.AdamOptimizer is deprecated. Please use tf.compat.v1.train.AdamOptimizer instead.\n",
      "\n"
     ]
    }
   ],
   "source": [
    "# Get an ADAM optimizer\n",
    "optimizer = tf.train.AdamOptimizer(learning_rate=0.001)"
   ]
  },
  {
   "cell_type": "markdown",
   "id": "c519b48b",
   "metadata": {},
   "source": [
    "### Create a trainer to train CNN Model"
   ]
  },
  {
   "cell_type": "code",
   "execution_count": 45,
   "id": "010b7f58",
   "metadata": {},
   "outputs": [],
   "source": [
    "# Create a CNN model trainer that can train the model\n",
    "# And optimize the model by minimizing the softmax cross_entropy loss\n",
    "\n",
    "cnn_trainer=optimizer.minimize(cross_entropy_mean)"
   ]
  },
  {
   "cell_type": "markdown",
   "id": "fef123be",
   "metadata": {},
   "source": [
    "## PHASE II: Train and Test CNN Model on CIFAR-10 Dataset"
   ]
  },
  {
   "cell_type": "markdown",
   "id": "c8e95f0e",
   "metadata": {},
   "source": [
    "### Train and Test CNN Deep learning model "
   ]
  },
  {
   "cell_type": "markdown",
   "id": "6ce3da2a",
   "metadata": {},
   "source": [
    "### Create a Variable initializer to Initialize all Variables"
   ]
  },
  {
   "cell_type": "code",
   "execution_count": 46,
   "id": "cd43b1e0",
   "metadata": {},
   "outputs": [
    {
     "name": "stdout",
     "output_type": "stream",
     "text": [
      "WARNING:tensorflow:From /tmp/ipykernel_24072/2444434795.py:1: The name tf.global_variables_initializer is deprecated. Please use tf.compat.v1.global_variables_initializer instead.\n",
      "\n"
     ]
    }
   ],
   "source": [
    "vars_initializer = tf.global_variables_initializer()\n",
    "steps=5000"
   ]
  },
  {
   "cell_type": "markdown",
   "id": "191dbd38",
   "metadata": {},
   "source": [
    "### Run tf.Sessions() to Train and Test Deep Learning CNN Model"
   ]
  },
  {
   "cell_type": "code",
   "execution_count": 47,
   "id": "17c2fd29",
   "metadata": {},
   "outputs": [
    {
     "name": "stdout",
     "output_type": "stream",
     "text": [
      "WARNING:tensorflow:From /tmp/ipykernel_24072/3517829204.py:1: The name tf.Session is deprecated. Please use tf.compat.v1.Session instead.\n",
      "\n"
     ]
    },
    {
     "name": "stderr",
     "output_type": "stream",
     "text": [
      "\n",
      "User settings:\n",
      "\n",
      "   KMP_AFFINITY=granularity=fine,verbose,compact,1,0\n",
      "   KMP_BLOCKTIME=0\n",
      "   KMP_SETTINGS=1\n",
      "   OMP_NUM_THREADS=8\n",
      "\n",
      "Effective settings:\n",
      "\n",
      "   KMP_ABORT_DELAY=0\n",
      "   KMP_ADAPTIVE_LOCK_PROPS='1,1024'\n",
      "   KMP_ALIGN_ALLOC=64\n",
      "   KMP_ALL_THREADPRIVATE=128\n",
      "   KMP_ATOMIC_MODE=2\n",
      "   KMP_BLOCKTIME=0\n",
      "   KMP_CPUINFO_FILE: value is not defined\n",
      "   KMP_DETERMINISTIC_REDUCTION=false\n",
      "   KMP_DEVICE_THREAD_LIMIT=2147483647\n",
      "   KMP_DISP_HAND_THREAD=false\n",
      "   KMP_DISP_NUM_BUFFERS=7\n",
      "   KMP_DUPLICATE_LIB_OK=false\n",
      "   KMP_FORCE_REDUCTION: value is not defined\n",
      "   KMP_FOREIGN_THREADS_THREADPRIVATE=true\n",
      "   KMP_FORKJOIN_BARRIER='2,2'\n",
      "   KMP_FORKJOIN_BARRIER_PATTERN='hyper,hyper'\n",
      "   KMP_FORKJOIN_FRAMES=true\n",
      "   KMP_FORKJOIN_FRAMES_MODE=3\n",
      "   KMP_GTID_MODE=3\n",
      "   KMP_HANDLE_SIGNALS=false\n",
      "   KMP_HOT_TEAMS_MAX_LEVEL=1\n",
      "   KMP_HOT_TEAMS_MODE=0\n",
      "   KMP_INIT_AT_FORK=true\n",
      "   KMP_ITT_PREPARE_DELAY=0\n",
      "   KMP_LIBRARY=throughput\n",
      "   KMP_LOCK_KIND=queuing\n",
      "   KMP_MALLOC_POOL_INCR=1M\n",
      "   KMP_MWAIT_HINTS=0\n",
      "   KMP_NUM_LOCKS_IN_BLOCK=1\n",
      "   KMP_PLAIN_BARRIER='2,2'\n",
      "   KMP_PLAIN_BARRIER_PATTERN='hyper,hyper'\n",
      "   KMP_REDUCTION_BARRIER='1,1'\n",
      "   KMP_REDUCTION_BARRIER_PATTERN='hyper,hyper'\n",
      "   KMP_SCHEDULE='static,balanced;guided,iterative'\n",
      "   KMP_SETTINGS=true\n",
      "   KMP_SPIN_BACKOFF_PARAMS='4096,100'\n",
      "   KMP_STACKOFFSET=64\n",
      "   KMP_STACKPAD=0\n",
      "   KMP_STACKSIZE=8M\n",
      "   KMP_STORAGE_MAP=false\n",
      "   KMP_TASKING=2\n",
      "   KMP_TASKLOOP_MIN_TASKS=0\n",
      "   KMP_TASK_STEALING_CONSTRAINT=1\n",
      "   KMP_TEAMS_THREAD_LIMIT=8\n",
      "   KMP_TOPOLOGY_METHOD=all\n",
      "   KMP_USER_LEVEL_MWAIT=false\n",
      "   KMP_USE_YIELD=1\n",
      "   KMP_VERSION=false\n",
      "   KMP_WARNINGS=true\n",
      "   OMP_AFFINITY_FORMAT='OMP: pid %P tid %i thread %n bound to OS proc set {%A}'\n",
      "   OMP_ALLOCATOR=omp_default_mem_alloc\n",
      "   OMP_CANCELLATION=false\n",
      "   OMP_DEBUG=disabled\n",
      "   OMP_DEFAULT_DEVICE=0\n",
      "   OMP_DISPLAY_AFFINITY=false\n",
      "   OMP_DISPLAY_ENV=false\n",
      "   OMP_DYNAMIC=false\n",
      "   OMP_MAX_ACTIVE_LEVELS=2147483647\n",
      "   OMP_MAX_TASK_PRIORITY=0\n",
      "   OMP_NESTED=false\n",
      "   OMP_NUM_THREADS='8'\n",
      "   OMP_PLACES: value is not defined\n",
      "   OMP_PROC_BIND='intel'\n",
      "   OMP_SCHEDULE='static'\n",
      "   OMP_STACKSIZE=8M\n",
      "   OMP_TARGET_OFFLOAD=DEFAULT\n",
      "   OMP_THREAD_LIMIT=2147483647\n",
      "   OMP_TOOL=enabled\n",
      "   OMP_TOOL_LIBRARIES: value is not defined\n",
      "   OMP_WAIT_POLICY=PASSIVE\n",
      "   KMP_AFFINITY='verbose,warnings,respect,granularity=fine,compact,1,0'\n",
      "\n",
      "2022-07-23 17:12:06.766632: I tensorflow/core/platform/profile_utils/cpu_utils.cc:94] CPU Frequency: 2299995000 Hz\n",
      "2022-07-23 17:12:06.773220: I tensorflow/compiler/xla/service/service.cc:168] XLA service 0x55aca1ac9bd0 initialized for platform Host (this does not guarantee that XLA will be used). Devices:\n",
      "2022-07-23 17:12:06.773254: I tensorflow/compiler/xla/service/service.cc:176]   StreamExecutor device (0): Host, Default Version\n",
      "2022-07-23 17:12:06.773620: I tensorflow/core/common_runtime/process_util.cc:136] Creating new thread pool with default inter op setting: 2. Tune using inter_op_parallelism_threads for best performance.\n",
      "OMP: Info #212: KMP_AFFINITY: decoding x2APIC ids.\n",
      "OMP: Info #210: KMP_AFFINITY: Affinity capable, using global cpuid leaf 11 info\n",
      "OMP: Info #154: KMP_AFFINITY: Initial OS proc set respected: 0-7\n",
      "OMP: Info #156: KMP_AFFINITY: 8 available OS procs\n",
      "OMP: Info #157: KMP_AFFINITY: Uniform topology\n",
      "OMP: Info #179: KMP_AFFINITY: 1 packages x 4 cores/pkg x 2 threads/core (4 total cores)\n",
      "OMP: Info #214: KMP_AFFINITY: OS proc to physical thread map:\n",
      "OMP: Info #171: KMP_AFFINITY: OS proc 0 maps to package 0 core 0 thread 0 \n",
      "OMP: Info #171: KMP_AFFINITY: OS proc 4 maps to package 0 core 0 thread 1 \n",
      "OMP: Info #171: KMP_AFFINITY: OS proc 1 maps to package 0 core 1 thread 0 \n",
      "OMP: Info #171: KMP_AFFINITY: OS proc 5 maps to package 0 core 1 thread 1 \n",
      "OMP: Info #171: KMP_AFFINITY: OS proc 2 maps to package 0 core 2 thread 0 \n",
      "OMP: Info #171: KMP_AFFINITY: OS proc 6 maps to package 0 core 2 thread 1 \n",
      "OMP: Info #171: KMP_AFFINITY: OS proc 3 maps to package 0 core 3 thread 0 \n",
      "OMP: Info #171: KMP_AFFINITY: OS proc 7 maps to package 0 core 3 thread 1 \n",
      "OMP: Info #250: KMP_AFFINITY: pid 24072 tid 24427 thread 0 bound to OS proc set 0\n",
      "OMP: Info #250: KMP_AFFINITY: pid 24072 tid 24427 thread 1 bound to OS proc set 1\n",
      "OMP: Info #250: KMP_AFFINITY: pid 24072 tid 24429 thread 2 bound to OS proc set 2\n",
      "OMP: Info #250: KMP_AFFINITY: pid 24072 tid 24430 thread 3 bound to OS proc set 3\n",
      "OMP: Info #250: KMP_AFFINITY: pid 24072 tid 24432 thread 5 bound to OS proc set 5\n",
      "OMP: Info #250: KMP_AFFINITY: pid 24072 tid 24431 thread 4 bound to OS proc set 4\n",
      "OMP: Info #250: KMP_AFFINITY: pid 24072 tid 24433 thread 6 bound to OS proc set 6\n",
      "OMP: Info #250: KMP_AFFINITY: pid 24072 tid 24434 thread 7 bound to OS proc set 7\n",
      "OMP: Info #250: KMP_AFFINITY: pid 24072 tid 24435 thread 8 bound to OS proc set 0\n",
      "OMP: Info #250: KMP_AFFINITY: pid 24072 tid 24426 thread 9 bound to OS proc set 1\n",
      "OMP: Info #250: KMP_AFFINITY: pid 24072 tid 24436 thread 10 bound to OS proc set 2\n",
      "OMP: Info #250: KMP_AFFINITY: pid 24072 tid 24437 thread 11 bound to OS proc set 3\n",
      "OMP: Info #250: KMP_AFFINITY: pid 24072 tid 24439 thread 13 bound to OS proc set 5\n",
      "OMP: Info #250: KMP_AFFINITY: pid 24072 tid 24438 thread 12 bound to OS proc set 4\n",
      "OMP: Info #250: KMP_AFFINITY: pid 24072 tid 24440 thread 14 bound to OS proc set 6\n",
      "OMP: Info #250: KMP_AFFINITY: pid 24072 tid 24441 thread 15 bound to OS proc set 7\n",
      "OMP: Info #250: KMP_AFFINITY: pid 24072 tid 24442 thread 16 bound to OS proc set 0\n"
     ]
    },
    {
     "name": "stdout",
     "output_type": "stream",
     "text": [
      "ON STEP : 0  Accuracy : 0.0994\n",
      "\n",
      "\n",
      "ON STEP : 100  Accuracy : 0.4208\n",
      "\n",
      "\n",
      "ON STEP : 200  Accuracy : 0.4497\n",
      "\n",
      "\n",
      "ON STEP : 300  Accuracy : 0.4999\n",
      "\n",
      "\n",
      "ON STEP : 400  Accuracy : 0.5141\n",
      "\n",
      "\n",
      "ON STEP : 500  Accuracy : 0.5385\n",
      "\n",
      "\n",
      "ON STEP : 600  Accuracy : 0.5607\n",
      "\n",
      "\n",
      "ON STEP : 700  Accuracy : 0.5768\n",
      "\n",
      "\n",
      "ON STEP : 800  Accuracy : 0.5764\n",
      "\n",
      "\n",
      "ON STEP : 900  Accuracy : 0.585\n",
      "\n",
      "\n",
      "ON STEP : 1000  Accuracy : 0.6113\n",
      "\n",
      "\n",
      "ON STEP : 1100  Accuracy : 0.6212\n",
      "\n",
      "\n",
      "ON STEP : 1200  Accuracy : 0.6263\n",
      "\n",
      "\n",
      "ON STEP : 1300  Accuracy : 0.6204\n",
      "\n",
      "\n",
      "ON STEP : 1400  Accuracy : 0.6306\n",
      "\n",
      "\n",
      "ON STEP : 1500  Accuracy : 0.6346\n",
      "\n",
      "\n",
      "ON STEP : 1600  Accuracy : 0.6464\n",
      "\n",
      "\n",
      "ON STEP : 1700  Accuracy : 0.6426\n",
      "\n",
      "\n",
      "ON STEP : 1800  Accuracy : 0.6429\n",
      "\n",
      "\n",
      "ON STEP : 1900  Accuracy : 0.6562\n",
      "\n",
      "\n",
      "ON STEP : 2000  Accuracy : 0.6491\n",
      "\n",
      "\n",
      "ON STEP : 2100  Accuracy : 0.654\n",
      "\n",
      "\n",
      "ON STEP : 2200  Accuracy : 0.6748\n",
      "\n",
      "\n",
      "ON STEP : 2300  Accuracy : 0.6659\n",
      "\n",
      "\n",
      "ON STEP : 2400  Accuracy : 0.6742\n",
      "\n",
      "\n",
      "ON STEP : 2500  Accuracy : 0.6686\n",
      "\n",
      "\n",
      "ON STEP : 2600  Accuracy : 0.6653\n",
      "\n",
      "\n",
      "ON STEP : 2700  Accuracy : 0.6832\n",
      "\n",
      "\n",
      "ON STEP : 2800  Accuracy : 0.6769\n",
      "\n",
      "\n",
      "ON STEP : 2900  Accuracy : 0.681\n",
      "\n",
      "\n",
      "ON STEP : 3000  Accuracy : 0.6837\n",
      "\n",
      "\n",
      "ON STEP : 3100  Accuracy : 0.6805\n",
      "\n",
      "\n",
      "ON STEP : 3200  Accuracy : 0.6797\n",
      "\n",
      "\n",
      "ON STEP : 3300  Accuracy : 0.675\n",
      "\n",
      "\n",
      "ON STEP : 3400  Accuracy : 0.6847\n",
      "\n",
      "\n",
      "ON STEP : 3500  Accuracy : 0.6896\n",
      "\n",
      "\n",
      "ON STEP : 3600  Accuracy : 0.6841\n",
      "\n",
      "\n",
      "ON STEP : 3700  Accuracy : 0.6745\n",
      "\n",
      "\n",
      "ON STEP : 3800  Accuracy : 0.6724\n",
      "\n",
      "\n",
      "ON STEP : 3900  Accuracy : 0.6835\n",
      "\n",
      "\n",
      "ON STEP : 4000  Accuracy : 0.6862\n",
      "\n",
      "\n",
      "ON STEP : 4100  Accuracy : 0.6681\n",
      "\n",
      "\n",
      "ON STEP : 4200  Accuracy : 0.6861\n",
      "\n",
      "\n",
      "ON STEP : 4300  Accuracy : 0.6746\n",
      "\n",
      "\n",
      "ON STEP : 4400  Accuracy : 0.6935\n",
      "\n",
      "\n",
      "ON STEP : 4500  Accuracy : 0.6823\n",
      "\n",
      "\n",
      "ON STEP : 4600  Accuracy : 0.6678\n",
      "\n",
      "\n",
      "ON STEP : 4700  Accuracy : 0.6873\n",
      "\n",
      "\n",
      "ON STEP : 4800  Accuracy : 0.677\n",
      "\n",
      "\n",
      "ON STEP : 4900  Accuracy : 0.681\n",
      "\n",
      "\n"
     ]
    }
   ],
   "source": [
    "with tf.Session() as sess:\n",
    "    sess.run(vars_initializer)\n",
    "    accuracy=[]\n",
    "    steps_i=[]\n",
    "    for i in range(steps):\n",
    "        batch_x,batch_y = ch.next_batch(100)\n",
    "        sess.run(cnn_trainer,feed_dict = \n",
    "                {x:batch_x, y_true:batch_y,dropout_hold_prob:0.5})\n",
    "        if i%100==0:\n",
    "            matches = tf.equal(tf.argmax(y_pred,1),tf.argmax(y_true,1))\n",
    "            acc = tf.reduce_mean(tf.cast(matches,tf.float32))\n",
    "            test_accuracy = sess.run(acc, feed_dict = \n",
    "                {x:ch.test_images,y_true:ch.test_labels,dropout_hold_prob:1.0})\n",
    "            accuracy.append(test_accuracy)\n",
    "            steps_i.append(i)\n",
    "            \n",
    "            print(\"ON STEP :\",i , \" Accuracy :\",test_accuracy)\n",
    "            print(\"\\n\")"
   ]
  },
  {
   "cell_type": "code",
   "execution_count": 48,
   "id": "e65d3b56",
   "metadata": {},
   "outputs": [
    {
     "name": "stdout",
     "output_type": "stream",
     "text": [
      "Test Accuracy Mean: 62.92\n"
     ]
    }
   ],
   "source": [
    "print(f\"Test Accuracy Mean: {round(np.mean(accuracy)*100,2)}\")"
   ]
  },
  {
   "cell_type": "code",
   "execution_count": 49,
   "id": "16a79d1b",
   "metadata": {
    "scrolled": true
   },
   "outputs": [
    {
     "data": {
      "text/plain": [
       "Text(0, 0.5, 'Accuracy')"
      ]
     },
     "execution_count": 49,
     "metadata": {},
     "output_type": "execute_result"
    },
    {
     "data": {
      "image/png": "[encoded data removed]",
      "text/plain": [
       "<Figure size 432x288 with 1 Axes>"
      ]
     },
     "metadata": {
      "needs_background": "light"
     },
     "output_type": "display_data"
    }
   ],
   "source": [
    "plt.plot(steps_i,accuracy, label='train acc',color='g',)\n",
    "plt.xlabel(\"Steps\")\n",
    "plt.ylabel(\"Accuracy\")"
   ]
  },
  {
   "cell_type": "code",
   "execution_count": 50,
   "id": "6c83c33f",
   "metadata": {},
   "outputs": [],
   "source": [
    "ACC_cnn_cifar_10=pd.DataFrame(list(zip(steps_i,accuracy)))"
   ]
  },
  {
   "cell_type": "code",
   "execution_count": 51,
   "id": "6dc17283",
   "metadata": {},
   "outputs": [],
   "source": [
    "ACC_cnn_cifar_10=ACC_cnn_cifar_10.rename(columns={0:\"Step_Size\",1:\"Test_Accuracy\"})\n"
   ]
  },
  {
   "cell_type": "code",
   "execution_count": 52,
   "id": "5acd3686",
   "metadata": {},
   "outputs": [],
   "source": [
    "ACC_cnn_cifar_10.to_csv(\"ACC_cnn_cifar_10.csv\")\n"
   ]
  },
  {
   "cell_type": "code",
   "execution_count": null,
   "id": "2fe8a4ec",
   "metadata": {},
   "outputs": [],
   "source": []
  },
  {
   "cell_type": "code",
   "execution_count": null,
   "id": "7540fc23",
   "metadata": {},
   "outputs": [],
   "source": []
  }
 ],
 "metadata": {
  "kernelspec": {
   "display_name": "Python 3",
   "language": "python",
   "name": "python3"
  },
  "language_info": {
   "codemirror_mode": {
    "name": "ipython",
    "version": 3
   },
   "file_extension": ".py",
   "mimetype": "text/x-python",
   "name": "python",
   "nbconvert_exporter": "python",
   "pygments_lexer": "ipython3",
   "version": "3.7.12"
  }
 },
 "nbformat": 4,
 "nbformat_minor": 5
}
